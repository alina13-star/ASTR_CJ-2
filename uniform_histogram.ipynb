{
  "metadata": {
    "kernelspec": {
      "name": "python",
      "display_name": "Python (Pyodide)",
      "language": "python"
    },
    "language_info": {
      "name": ""
    }
  },
  "nbformat_minor": 5,
  "nbformat": 4,
  "cells": [
    {
      "id": "28826f52-397a-417c-ae5f-45baede00748",
      "cell_type": "code",
      "source": "import numpy as np\nimport matplotlib.pyplot as plt",
      "metadata": {
        "trusted": true
      },
      "outputs": [],
      "execution_count": null
    },
    {
      "id": "562f9a42-9196-4866-b906-3a5b9772b3c4",
      "cell_type": "code",
      "source": "# Generate 1000 uniformly distributed random numbers between 0 and 1\ndata = np.random.uniform(0, 1, 1000)",
      "metadata": {
        "trusted": true
      },
      "outputs": [],
      "execution_count": null
    },
    {
      "id": "2efb67a7-7eae-4590-8073-dbad47ffeb76",
      "cell_type": "code",
      "source": "# Create the histogram\nplt.hist(data, bins=100, color='lightgreen', edgecolor='back')\n\n# Label the axes and add a title\nplt.xlabel(\"Value\")\nplt.ylabel(\"Frequency\")\nplt.title(\"Histogram of Uniform random Numbers\")\n\n# Save the figure as a PDF\nplt.tight_layout()\nplt.savefig(\"uniform_histogram.pdf\")\n\n# show the plot \nplt.show",
      "metadata": {
        "trusted": true
      },
      "outputs": [],
      "execution_count": null
    },
    {
      "id": "96ebe71f-af25-4817-85e4-3f0e277509ef",
      "cell_type": "code",
      "source": "",
      "metadata": {
        "trusted": true
      },
      "outputs": [],
      "execution_count": null
    },
    {
      "id": "db226b33-5af5-4f42-81b1-8fb5f8ebf2d8",
      "cell_type": "code",
      "source": "",
      "metadata": {
        "trusted": true
      },
      "outputs": [],
      "execution_count": null
    }
  ]
}