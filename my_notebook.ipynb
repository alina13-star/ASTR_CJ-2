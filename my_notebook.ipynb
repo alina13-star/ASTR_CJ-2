{
  "metadata": {
    "kernelspec": {
      "name": "python",
      "display_name": "Python (Pyodide)",
      "language": "python"
    },
    "language_info": {
      "name": ""
    }
  },
  "nbformat_minor": 5,
  "nbformat": 4,
  "cells": [
    {
      "id": "45a1e3ac-0c35-41df-8ee2-dbea0e846335",
      "cell_type": "code",
      "source": "import numpy as np\nimport matplotlib.pyplot as plt ",
      "metadata": {
        "trusted": true
      },
      "outputs": [],
      "execution_count": null
    },
    {
      "id": "82c58c9d-f0e8-4cc9-a4f1-3cbc3a35f719",
      "cell_type": "code",
      "source": "x = np.linspace (0, 1, 100)  #100 steps from 0 to 1",
      "metadata": {
        "trusted": true
      },
      "outputs": [],
      "execution_count": null
    },
    {
      "id": "a21adedb-b8d8-41b7-abab-4ce150b846a9",
      "cell_type": "code",
      "source": "def exp_func(x):\n    return np.exp(x)",
      "metadata": {
        "trusted": true
      },
      "outputs": [],
      "execution_count": null
    },
    {
      "id": "e6e58fb8-f22e-457f-a6ab-55856a874752",
      "cell_type": "code",
      "source": "y = exp_func(x)\n\nplt.plot (x,)\nplt.xlabel(\"Time [milliseconds]\")\nplt.ylabel(\"Awesome]\")\nplt.title(\"Exponential Growth of Awesomeness\")\nplt.grid(True)\n\n# Save the figures as PDF\nplt.savefig(\"Awesome_plot.pdf\")\n\nplt.show()",
      "metadata": {
        "trusted": true
      },
      "outputs": [],
      "execution_count": null
    }
  ]
}