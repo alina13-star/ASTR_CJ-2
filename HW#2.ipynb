{
  "metadata": {
    "kernelspec": {
      "name": "python",
      "display_name": "Python (Pyodide)",
      "language": "python"
    },
    "language_info": {
      "name": ""
    }
  },
  "nbformat_minor": 5,
  "nbformat": 4,
  "cells": [
    {
      "id": "5c4608a0-9c48-426f-8269-e671296b73fe",
      "cell_type": "code",
      "source": "import numpy as np\nimport matplotlib.pyplot as plt",
      "metadata": {
        "trusted": true
      },
      "outputs": [],
      "execution_count": null
    },
    {
      "id": "656c2474-4e35-47c6-8236-4f506cbcf484",
      "cell_type": "code",
      "source": "x = np.linspace(0, 1, 100) #100 steps from 0 to 1",
      "metadata": {
        "trusted": true
      },
      "outputs": [],
      "execution_count": null
    },
    {
      "id": "ae0ba120-a020-49f8-9638-04c5b7dfae84",
      "cell_type": "code",
      "source": "def sin_func(x):\n    return np.sin(x)\n\ndef cos_func(x):\n    return np.cos(x)",
      "metadata": {
        "trusted": true
      },
      "outputs": [],
      "execution_count": null
    },
    {
      "id": "f1010932-34dc-41a7-8d46-5c6d04741e1e",
      "cell_type": "code",
      "source": "#compute y values\ny_sin - sin_func(x)\ny_cos = cos_func(x)\n\n#create multipanel plot\nfig, axs = plt.subplots(1, 2, figsize=(10, 4))\n\n#left panel: sin(x)\naxs[0].plot(x,y_sin)\naxs[0].set_title(\"sin(x)\")\naxs[0].set_xlabel(\"x\")\naxs[0].set_ylabel(\"x\")\naxs[0].grid(True)\n\n#Right panel: cos(x)\naxs[1].plot(x, y_sin)\naxs[1].set_title(\"cos(x)\")\naxs[1].set_xlabel(\"x\")\naxs[1].set_ylabel(\"x\")\naxs[1].grid(True)\n\n#adjust layout and save\nplt.tight_layout()\nplt.savefig(\"sine_cosine_plots.pdf\")\nplt.show()",
      "metadata": {
        "trusted": true
      },
      "outputs": [],
      "execution_count": null
    }
  ]
}