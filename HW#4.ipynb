{
  "metadata": {
    "kernelspec": {
      "name": "python",
      "display_name": "Python (Pyodide)",
      "language": "python"
    },
    "language_info": {
      "codemirror_mode": {
        "name": "python",
        "version": 3
      },
      "file_extension": ".py",
      "mimetype": "text/x-python",
      "name": "python",
      "nbconvert_exporter": "python",
      "pygments_lexer": "ipython3",
      "version": "3.8"
    }
  },
  "nbformat_minor": 5,
  "nbformat": 4,
  "cells": [
    {
      "id": "6eefeeb7-2b6e-4e25-8a88-9be1a34a8edc",
      "cell_type": "code",
      "source": "import numpy as np\nimport matplotlib.puplot as plt",
      "metadata": {
        "trusted": true
      },
      "outputs": [],
      "execution_count": null
    },
    {
      "id": "06061c46-a3ab-45c5-a1da-985c8924ef00",
      "cell_type": "code",
      "source": "# pull random numbers using beta distrabution\n# with shape parameters a=2.0 and b=5.0\ndata = np.random.beta(a=2.0, b=5.0, size=1000)",
      "metadata": {
        "trusted": true
      },
      "outputs": [],
      "execution_count": null
    },
    {
      "id": "9e937232-7e94-4da0-a76e-904121c5c6e8",
      "cell_type": "code",
      "source": "# plot the histogram \nplt.hist(data, bins=100, color= 'pink', edgecolor= 'black'\n\n# label the plot\nplt.xlabel(\"Value\")\nplt.ylabel(\"Frequency\")\nplt.title(\"Histogram of Beta Distribution (a=2.0, b=5.0)\")\n\n# save the figure as a PDF\nplt.tight_layout()\nplt.savefig(\"beta_distribution_histogram.pdf\")\n\n#display the plot\nplt.show()",
      "metadata": {
        "trusted": true
      },
      "outputs": [],
      "execution_count": null
    },
    {
      "id": "83029d0f-ff1c-4bcd-81db-c4fd67b91e29",
      "cell_type": "code",
      "source": "",
      "metadata": {
        "trusted": true
      },
      "outputs": [],
      "execution_count": null
    }
  ]
}